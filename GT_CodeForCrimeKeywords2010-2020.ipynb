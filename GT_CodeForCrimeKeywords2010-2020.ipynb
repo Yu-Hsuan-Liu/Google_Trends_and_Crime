{
 "cells": [
  {
   "cell_type": "code",
   "execution_count": 1,
   "metadata": {},
   "outputs": [],
   "source": [
    "import time\n",
    "import datetime\n",
    "import pandas as pd\n",
    "import os\n",
    "import csv\n",
    "from pytrends.request import TrendReq\n",
    "from scipy.stats import pearsonr\n",
    "import numpy as np\n",
    "import re\n",
    "import pytrends\n",
    "import bash\n",
    "import random"
   ]
  },
  {
   "cell_type": "code",
   "execution_count": 2,
   "metadata": {},
   "outputs": [],
   "source": [
    "def Keywords(*args):\n",
    "    keywordslist = []\n",
    "    for i in range(len(args)):\n",
    "        #pdb.set_trace()\n",
    "        a = args[i]\n",
    "        keywordslist.append(a)\n",
    "    return keywordslist\n",
    "\n",
    "def repeats_sleeps(repeat = 3, sleep = 3600):\n",
    "    repeat = repeat\n",
    "    sleep = sleep\n",
    "    return (repeat, sleep)\n"
   ]
  },
  {
   "cell_type": "code",
   "execution_count": 3,
   "metadata": {},
   "outputs": [
    {
     "data": {
      "text/plain": [
       "{'MVT_10_20': 'car stolen+find stolen car+report police stolen car+insurance car stolen - dream - check',\n",
       " 'Rape_10_20': 'I raped+raped me+raped report police+being raped+been raped - dream - kobe - trump - porn',\n",
       " 'Larceny_10_20': 'my stolen+find my stolen+theft report police+someone stolen my - car - heart - dream - number',\n",
       " 'Known_deliquents_10_20': 'my committed a crime+police arrested my+my arrested+my in jail+my in prison - arrested development',\n",
       " 'Social_control_10_20': 'I hate family+parents hate me+I hate my parents+I hate school+I hate teacher+I hate dad+I hate mom',\n",
       " 'Burglary_10_20': 'burglary+home burglarized+my house broken into+my home broken into+burglary report police - dream'}"
      ]
     },
     "execution_count": 3,
     "metadata": {},
     "output_type": "execute_result"
    }
   ],
   "source": [
    "global D\n",
    "\n",
    "D = {\"MVT_10_20\":\"car stolen+find stolen car+report police stolen car+insurance car stolen - dream - check\", \n",
    "     \"Rape_10_20\" : \"I raped+raped me+raped report police+being raped+been raped - dream - kobe - trump - porn\",\n",
    "     \"Larceny_10_20\": \"my stolen+find my stolen+theft report police+someone stolen my - car - heart - dream - number\",\n",
    "    \"Known_deliquents_10_20\" : \"my committed a crime+police arrested my+my arrested+my in jail+my in prison - arrested development\",\n",
    "    \"Social_control_10_20\" : \"I hate family+parents hate me+I hate my parents+I hate school+I hate teacher+I hate dad+I hate mom\",\n",
    "    \"Burglary_10_20\" : \"burglary+home burglarized+my house broken into+my home broken into+burglary report police - dream\"}\n",
    "\n",
    "\n",
    "\n",
    "D\n"
   ]
  },
  {
   "cell_type": "markdown",
   "metadata": {},
   "source": [
    "## SleepTime"
   ]
  },
  {
   "cell_type": "code",
   "execution_count": 4,
   "metadata": {},
   "outputs": [
    {
     "data": {
      "text/plain": [
       "['MVT_10_20',\n",
       " 'Rape_10_20',\n",
       " 'Larceny_10_20',\n",
       " 'Known_deliquents_10_20',\n",
       " 'Social_control_10_20',\n",
       " 'Burglary_10_20']"
      ]
     },
     "execution_count": 4,
     "metadata": {},
     "output_type": "execute_result"
    }
   ],
   "source": [
    "Dkeyslist = []\n",
    "for i in D.keys():\n",
    "    #print(i)\n",
    "    x = re.sub(\"\\s\",\"\", i)\n",
    "    x = re.sub(\"\\+\",\"--\", x)\n",
    "    #print(x)\n",
    "    Dkeyslist.append(x)\n",
    "\n",
    "\n",
    "repeat, sleep = repeats_sleeps(1000, random.randint(10800,14400))\n",
    "global filenamex\n",
    "filenamex = Dkeyslist\n",
    "filenamex\n"
   ]
  },
  {
   "cell_type": "markdown",
   "metadata": {},
   "source": [
    "## Main Function"
   ]
  },
  {
   "cell_type": "code",
   "execution_count": 5,
   "metadata": {},
   "outputs": [],
   "source": [
    "def GTkeyword(keywords, filenamex, counts = 1, sleeptime = 0):\n",
    "    now_min = datetime.datetime.now().min\n",
    "    timenow = datetime.datetime.now().strftime('%Y%m%d%H%M')\n",
    "    delta_min = 0\n",
    "    Rotate = 0\n",
    "    count_min = 0\n",
    "    while count_min != counts:\n",
    "\n",
    "        if delta_min != now_min:\n",
    "            \n",
    "            kw_list = keywords #input('please input your keywords(seperate with \",\" and max 5 keywords): ').split(',')\n",
    "            #print(kw_list)\n",
    "            time_start = \"2010-01-01\" #input('please input start time of inquary(20XX-XX-XX): ')\n",
    "            time_end = \"2020-12-31\" #input('please input end time of inquary(20XX-XX-XX): ')\n",
    "            delta = datetime.datetime.strptime(time_end, '%Y-%m-%d') - datetime.datetime.strptime(time_start, '%Y-%m-%d')\n",
    "            #print(\"total interval days between your dates are\", delta.days+1, \"days\")\n",
    "            time_interval = delta.days+1 #eval(input('please input interval of days(1-7, or total interval days):'))\"\n",
    "            region = \"US\" #input('please input your interested region(World, US or US-PA, etc): ')\n",
    "            region_level = \"DMA\"#input('please input your interested region level data(\"CITY\" returns city level data, \"COUNTRY\" returns country level data, \"DMA\" returns Metro level data, \"REGION\" returns Region level data):')\n",
    "            Timezone = \"360\" #input('please input your estimate timezone(PST\tPacific Standard Time (North America):480; MST\tMountain Standard Time (North America): 420; CST\tCentral Standard Time (North America): 360; EST\tEastern Standard Time (North America): 300; AST\tAtlantic Standard Time: 240; GMT\tGreenwich Mean Time: 0) : ')\n",
    "            pytrend = TrendReq(hl= 'en-US', tz = Timezone)\n",
    "            if region == \"world\":\n",
    "                region = ''\n",
    "             \n",
    "            def dateRange(beginDate, endDate):\n",
    "                dates = []\n",
    "                dt = datetime.datetime.strptime(beginDate, \"%Y-%m-%d\")\n",
    "                date = beginDate[:]\n",
    "                while date <= endDate:\n",
    "                    dates.append(date)\n",
    "                    if (date == dt.strftime (\"2004-01-01\")) or (date == dt.strftime (\"2008-01-01\"))\\\n",
    "                    or (date == dt.strftime (\"2012-01-01\")) or (date == dt.strftime (\"2016-01-01\")) \\\n",
    "                    or  (date == dt.strftime (\"2020-01-01\")) or  (date == dt.strftime (\"2024-01-01\")):\n",
    "                        dt = dt + datetime.timedelta(time_interval+1)\n",
    "                        date = dt.strftime(\"%Y-%m-%d\")\n",
    "                    else:\n",
    "                        dt = dt + datetime.timedelta(time_interval)\n",
    "                        date = dt.strftime(\"%Y-%m-%d\")          \n",
    "                return dates\n",
    "             \n",
    "            list_of_dates = []\n",
    "            if __name__ == '__main__':\n",
    "                for date in dateRange(time_start, time_end):\n",
    "                    print (date)\n",
    "                    list_of_dates.append(date)\n",
    "            \n",
    "            timeframeX = time_start + \" \" + time_end\n",
    "            \n",
    "            if len(kw_list) == 1:#wirte titles in the files\n",
    "                    filename = filenamex+\"_\"+ \\\n",
    "                    timeframeX + ' tz=' + Timezone +\" \"+ str(time_interval) + 'days' \\\n",
    "                    + \" \" + region + region_level + str(Rotate) + \"_\" + timenow + '.csv'\n",
    "                    with open(filename, 'a+', newline='') as csvfile:\n",
    "                        writer = csv.writer(csvfile, delimiter=',')\n",
    "                        writer.writerow(['DateStart','DateEnd', 'Interval Days', 'GeoName', 'Keyword1_' + kw_list[0]])\n",
    "            elif len(kw_list) == 2:\n",
    "                    filename = filenamex+\"_\"+timeframeX + ' tz=' + Timezone +\" \"+ str(time_interval)\\\n",
    "                    + 'days' + \" \" + region + region_level + str(Rotate) + \"_\" + timenow + '.csv'\n",
    "                    with open(filename, 'a+', newline='') as csvfile:\n",
    "                        writer = csv.writer(csvfile, delimiter=',')\n",
    "                        writer.writerow(['DateStart','DateEnd', 'Interval Days',\\\n",
    "                                         'GeoName', 'Keyword1_' + kw_list[0], 'Keyword2_' + kw_list[1]])\n",
    "            elif len(kw_list) == 3:\n",
    "                    filename = filenamex+\"_\"+ timeframeX + ' tz=' + Timezone\\\n",
    "                    +\" \"+ str(time_interval) + 'days' + \" \" + region + region_level +\\\n",
    "                    str(Rotate) + \"_\" + timenow + '.csv'\n",
    "                    with open(filename, 'a+', newline='') as csvfile:\n",
    "                        writer = csv.writer(csvfile, delimiter=',')\n",
    "                        writer.writerow(['DateStart','DateEnd', 'Interval Days', \\\n",
    "                                         'GeoName', 'Keyword1_' + kw_list[0], 'Keyword2_'\\\n",
    "                                         + kw_list[1], 'Keyword3_' + kw_list[2]])\n",
    "            elif len(kw_list) == 4:\n",
    "                    filename = filenamex+\"_\"+ timeframeX + \\\n",
    "                    ' tz=' + Timezone + \" \"+ str(time_interval) + 'days' + \" \" + region\\\n",
    "                    + region_level + str(Rotate) + \"_\" + timenow + '.csv'\n",
    "                    with open(filename, 'a+', newline='') as csvfile:\n",
    "                        writer = csv.writer(csvfile, delimiter=',')\n",
    "                        writer.writerow(['DateStart','DateEnd', 'Interval Days', 'GeoName',\\\n",
    "                                         'Keyword1_' + kw_list[0], 'Keyword2_' + kw_list[1],\\\n",
    "                                         'Keyword3_' + kw_list[2], 'Keyword4_' + kw_list[3]])\n",
    "            elif len(kw_list) == 5:\n",
    "                    filename = filenamex+\"_\"+ timeframeX + ' tz='\\\n",
    "                    + Timezone +\" \"+ str(time_interval) + 'days' + \" \" + region + region_level + \\\n",
    "                    str(Rotate) + \"_\" + timenow + '.csv'\n",
    "                    with open(filename, 'a+', newline='') as csvfile:\n",
    "                        writer = csv.writer(csvfile, delimiter=',')\n",
    "                        writer.writerow(['DateStart','DateEnd', 'Interval Days', 'GeoName', 'Keyword1_'\\\n",
    "                                         + kw_list[0], 'Keyword2_' + kw_list[1], 'Keyword3_' + kw_list[2],\\\n",
    "                                         'Keyword4_' + kw_list[3], 'Keyword5_' + kw_list[4]])\n",
    "            \n",
    "            \n",
    "            \n",
    "            Rotate += 1\n",
    "            \n",
    "            for i in range(0, len(list_of_dates)-1):\n",
    "                end_of_interval_day_plus_one = datetime.datetime.strptime(list_of_dates[i+1], '%Y-%m-%d')\\\n",
    "                #actual enddate should minus one day more. Turn str() into int()\n",
    "                delta = datetime.timedelta(days=1) \n",
    "                n_days= end_of_interval_day_plus_one - delta  #minus 1 day of end day, to make it the right end date.\n",
    "                end_of_interval_day = n_days.strftime('%Y-%m-%d') #turn int() to str()\n",
    "                import pdb\n",
    "                pdb.set_trace()\n",
    "                timeframeX = list_of_dates[i] + \" \" + end_of_interval_day #Right timeframe\n",
    "                pytrend.build_payload(kw_list, timeframe = timeframeX, geo = region) #main function of pytrend\n",
    "                print(pytrend.interest_by_region(resolution = region_level)) \n",
    "               \n",
    "                #print(pytrend.interest_by_region(resolution = region_level).to_csv(path_or_buf= filename))\n",
    "               \n",
    "                select_df = pd.DataFrame(pytrend.interest_by_region(resolution = region_level)) #grab data    \n",
    "                \n",
    "                # See what this data looks like\n",
    "                '''X = dict(select_df)\n",
    "                print(X)\n",
    "                print(select_df.shape)\n",
    "                print(select_df.columns)\n",
    "                print(select_df.index)\n",
    "                print(select_df.describe())'''\n",
    "                \n",
    "                G = select_df.index #Geoname Column\n",
    "                    \n",
    "                if len(kw_list) == 1:\n",
    "                    Y1 = select_df[kw_list[0]]\n",
    "                    with open(filename, 'a+', newline='') as csvfile:\n",
    "                        for j in range (0, len(G.values)):\n",
    "                            writer = csv.writer(csvfile, delimiter=',')\n",
    "                            text = G.values[j]\n",
    "                            if Y1.values[j] != 0:\n",
    "                                writer.writerow([list_of_dates[i], end_of_interval_day, time_interval, text, Y1.values[j]])\n",
    "                            \n",
    "                elif len(kw_list) == 2:\n",
    "                    Y1 = select_df[kw_list[0]]\n",
    "                    Y2 = select_df[kw_list[1]]\n",
    "                    with open(filename, 'a+', newline='') as csvfile:\n",
    "                        for j in range (0, len(G.values)):\n",
    "                            writer = csv.writer(csvfile, delimiter=',')\n",
    "                            text = G.values[j]\n",
    "                            #print(list_of_dates[i], end_of_interval_day, time_interval, G.values[j], Y1.values[j], Y2.values[j])\n",
    "                            writer.writerow([list_of_dates[i], end_of_interval_day, time_interval,\\\n",
    "                                             text, Y1.values[j], Y2.values[j]])\n",
    "                            \n",
    "                elif len(kw_list) == 3:\n",
    "                    Y1 = select_df[kw_list[0]]\n",
    "                    Y2 = select_df[kw_list[1]]\n",
    "                    Y3 = select_df[kw_list[2]]\n",
    "                    with open(filename, 'a+', newline='') as csvfile:\n",
    "                        for j in range (0, len(G.values)):\n",
    "                            writer = csv.writer(csvfile, delimiter=',')\n",
    "                            text = G.values[j]\n",
    "                            writer.writerow([list_of_dates[i], end_of_interval_day, time_interval,\\\n",
    "                                             text, Y1.values[j], Y2.values[j], Y3.values[j]]) \n",
    "                            \n",
    "                elif len(kw_list) == 4:\n",
    "                    Y1 = select_df[kw_list[0]]\n",
    "                    Y2 = select_df[kw_list[1]]\n",
    "                    Y3 = select_df[kw_list[2]]\n",
    "                    Y4 = select_df[kw_list[3]]\n",
    "                    with open(filename, 'a+', newline='') as csvfile:\n",
    "                        for j in range (0, len(G.values)):\n",
    "                            writer = csv.writer(csvfile, delimiter=',')\n",
    "                            text = G.values[j]\n",
    "                            writer.writerow([list_of_dates[i], end_of_interval_day, time_interval,\\\n",
    "                                             text, Y1.values[j], Y2.values[j], Y3.values[j], Y4.values[j]])\n",
    "            \n",
    "                elif len(kw_list) == 5:\n",
    "                    Y1 = select_df[kw_list[0]]\n",
    "                    Y2 = select_df[kw_list[1]]\n",
    "                    Y3 = select_df[kw_list[2]]\n",
    "                    Y4 = select_df[kw_list[3]]\n",
    "                    Y5 = select_df[kw_list[4]]\n",
    "                    with open(filename, 'a+', newline='') as csvfile:\n",
    "                        for j in range (0, len(G.values)):\n",
    "                            writer = csv.writer(csvfile, delimiter=',')\n",
    "                            text = G.values[j]\n",
    "                            writer.writerow([list_of_dates[i], end_of_interval_day, time_interval,\\\n",
    "                                             text, Y1.values[j], Y2.values[j], Y3.values[j], Y4.values[j], Y5.values[j]])\n",
    "                #time.sleep(00)   \n",
    "            \n",
    "            \n",
    "            if list_of_dates[-1] != time_end or (list_of_dates[-1] == time_end and time_interval == 1):\n",
    "                timeframeX = list_of_dates[-1]+\" \"+time_end\n",
    "                X1 = datetime.datetime.strptime(list_of_dates[-1], \"%Y-%m-%d\")\n",
    "                X2 = datetime.datetime.strptime(time_end, \"%Y-%m-%d\")\n",
    "                last_interval_of_days = (X2-X1).days + 1\n",
    "                pytrend.build_payload(kw_list, timeframe = timeframeX, geo = region)\n",
    "                print(pytrend.interest_by_region(resolution = region_level))\n",
    "                select_df = pd.DataFrame(pytrend.interest_by_region(resolution = region_level))\n",
    "                G = select_df.index\n",
    "                \n",
    "                if len(kw_list) == 1:\n",
    "                    Y1 = select_df[kw_list[0]]\n",
    "                    with open(filename, 'a+', newline='') as csvfile:\n",
    "                        for j in range (0, len(G.values)):\n",
    "                            writer = csv.writer(csvfile, delimiter=',')\n",
    "                            text = G.values[j]\n",
    "                            if Y1.values[j] != 0:\n",
    "                                writer.writerow([list_of_dates[-1], time_end, last_interval_of_days, text, Y1.values[j]])\n",
    "                            \n",
    "                elif len(kw_list) == 2:\n",
    "                    Y1 = select_df[kw_list[0]]\n",
    "                    Y2 = select_df[kw_list[1]]\n",
    "                    with open(filename, 'a+', newline='') as csvfile:\n",
    "                        for j in range (0, len(G.values)):\n",
    "                            writer = csv.writer(csvfile, delimiter=',')\n",
    "                            text = G.values[j]\n",
    "                            #print(list_of_dates[-1], time_end, last_interval_of_days, G.values[j], Y1.values[j], Y2.values[j])\n",
    "                            writer.writerow([list_of_dates[-1], time_end, last_interval_of_days,\\\n",
    "                                             text, Y1.values[j], Y2.values[j]])\n",
    "                            \n",
    "                elif len(kw_list) == 3:\n",
    "                    Y1 = select_df[kw_list[0]]\n",
    "                    Y2 = select_df[kw_list[1]]\n",
    "                    Y3 = select_df[kw_list[2]]\n",
    "                    with open(filename, 'a+', newline='') as csvfile:\n",
    "                        for j in range (0, len(G.values)):\n",
    "                            writer = csv.writer(csvfile, delimiter=',')\n",
    "                            text = G.values[j]\n",
    "                            writer.writerow([list_of_dates[-1], time_end, last_interval_of_days, \\\n",
    "                                             text, Y1.values[j], Y2.values[j], Y3.values[j]]) \n",
    "                            \n",
    "                elif len(kw_list) == 4:\n",
    "                    Y1 = select_df[kw_list[0]]\n",
    "                    Y2 = select_df[kw_list[1]]\n",
    "                    Y3 = select_df[kw_list[2]]\n",
    "                    Y4 = select_df[kw_list[3]]\n",
    "                    with open(filename, 'a+', newline='') as csvfile:\n",
    "                        for j in range (0, len(G.values)):\n",
    "                            writer = csv.writer(csvfile, delimiter=',')\n",
    "                            text = G.values[j]\n",
    "                            writer.writerow([list_of_dates[-1], time_end, last_interval_of_days,\\\n",
    "                                             text, Y1.values[j], Y2.values[j], Y3.values[j], Y4.values[j]])\n",
    "            \n",
    "                elif len(kw_list) == 5:\n",
    "                    Y1 = select_df[kw_list[0]]\n",
    "                    Y2 = select_df[kw_list[1]]\n",
    "                    Y3 = select_df[kw_list[2]]\n",
    "                    Y4 = select_df[kw_list[3]]\n",
    "                    Y5 = select_df[kw_list[4]]\n",
    "                    with open(filename, 'a+', newline='') as csvfile:\n",
    "                        for j in range (0, len(G.values)):\n",
    "                            writer = csv.writer(csvfile, delimiter=',')\n",
    "                            text = G.values[j]\n",
    "                            writer.writerow([list_of_dates[-1], time_end, last_interval_of_days, \\\n",
    "                                             text, Y1.values[j], Y2.values[j], Y3.values[j], Y4.values[j], Y5.values[j]]) \n",
    "        count_min += 1\n",
    "        delta_min == now_min\n",
    "        time.sleep(sleeptime)"
   ]
  },
  {
   "cell_type": "code",
   "execution_count": 6,
   "metadata": {},
   "outputs": [],
   "source": [
    "GTKeywords = [i.split(\",\") for i in D.values()]"
   ]
  },
  {
   "cell_type": "code",
   "execution_count": 7,
   "metadata": {},
   "outputs": [
    {
     "data": {
      "text/plain": [
       "[['car stolen+find stolen car+report police stolen car+insurance car stolen - dream - check'],\n",
       " ['I raped+raped me+raped report police+being raped+been raped - dream - kobe - trump - porn'],\n",
       " ['my stolen+find my stolen+theft report police+someone stolen my - car - heart - dream - number'],\n",
       " ['my committed a crime+police arrested my+my arrested+my in jail+my in prison - arrested development'],\n",
       " ['I hate family+parents hate me+I hate my parents+I hate school+I hate teacher+I hate dad+I hate mom'],\n",
       " ['burglary+home burglarized+my house broken into+my home broken into+burglary report police - dream']]"
      ]
     },
     "execution_count": 7,
     "metadata": {},
     "output_type": "execute_result"
    }
   ],
   "source": [
    "GTKeywords"
   ]
  },
  {
   "cell_type": "code",
   "execution_count": null,
   "metadata": {},
   "outputs": [
    {
     "name": "stdout",
     "output_type": "stream",
     "text": [
      "2010-01-01\n",
      "                                    car stolen+find stolen car+report police stolen car+insurance car stolen - dream - check\n",
      "geoName                                                                                                                     \n",
      "Abilene-Sweetwater TX                                                               0                                       \n",
      "Albany GA                                                                           0                                       \n",
      "Albany-Schenectady-Troy NY                                                         43                                       \n",
      "Albuquerque-Santa Fe NM                                                            86                                       \n",
      "Alexandria LA                                                                       0                                       \n",
      "...                                                                               ...                                       \n",
      "Wilmington NC                                                                       0                                       \n",
      "Yakima-Pasco-Richland-Kennewick WA                                                 68                                       \n",
      "Youngstown OH                                                                      47                                       \n",
      "Yuma AZ-El Centro CA                                                                0                                       \n",
      "Zanesville OH                                                                       0                                       \n",
      "\n",
      "[210 rows x 1 columns]\n",
      "C:\\Users\\tosea\\Google-Trend\\10-19_gt_crime\\MVT_10_20_2010-01-01 2020-12-31 tz=360 4018days USDMA0_202104010145.csv\n",
      "        1 file(s) moved.\n",
      "2010-01-01\n",
      "                                    I raped+raped me+raped report police+being raped+been raped - dream - kobe - trump - porn\n",
      "geoName                                                                                                                      \n",
      "Abilene-Sweetwater TX                                                               0                                        \n",
      "Albany GA                                                                           0                                        \n",
      "Albany-Schenectady-Troy NY                                                         56                                        \n",
      "Albuquerque-Santa Fe NM                                                            49                                        \n",
      "Alexandria LA                                                                       0                                        \n",
      "...                                                                               ...                                        \n",
      "Wilmington NC                                                                       0                                        \n",
      "Yakima-Pasco-Richland-Kennewick WA                                                 76                                        \n",
      "Youngstown OH                                                                     100                                        \n",
      "Yuma AZ-El Centro CA                                                                0                                        \n",
      "Zanesville OH                                                                       0                                        \n",
      "\n",
      "[210 rows x 1 columns]\n",
      "C:\\Users\\tosea\\Google-Trend\\10-19_gt_crime\\Rape_10_20_2010-01-01 2020-12-31 tz=360 4018days USDMA0_202104010145.csv\n",
      "        1 file(s) moved.\n",
      "2010-01-01\n",
      "                                    my stolen+find my stolen+theft report police+someone stolen my - car - heart - dream - number\n",
      "geoName                                                                                                                          \n",
      "Abilene-Sweetwater TX                                                               0                                            \n",
      "Albany GA                                                                           0                                            \n",
      "Albany-Schenectady-Troy NY                                                         45                                            \n",
      "Albuquerque-Santa Fe NM                                                            72                                            \n",
      "Alexandria LA                                                                       0                                            \n",
      "...                                                                               ...                                            \n",
      "Wilmington NC                                                                       0                                            \n",
      "Yakima-Pasco-Richland-Kennewick WA                                                 52                                            \n",
      "Youngstown OH                                                                       0                                            \n",
      "Yuma AZ-El Centro CA                                                                0                                            \n",
      "Zanesville OH                                                                       0                                            \n",
      "\n",
      "[210 rows x 1 columns]\n",
      "C:\\Users\\tosea\\Google-Trend\\10-19_gt_crime\\Larceny_10_20_2010-01-01 2020-12-31 tz=360 4018days USDMA0_202104010145.csv\n",
      "        1 file(s) moved.\n",
      "2010-01-01\n",
      "                                    my committed a crime+police arrested my+my arrested+my in jail+my in prison - arrested development\n",
      "geoName                                                                                                                               \n",
      "Abilene-Sweetwater TX                                                               0                                                 \n",
      "Albany GA                                                                           0                                                 \n",
      "Albany-Schenectady-Troy NY                                                         43                                                 \n",
      "Albuquerque-Santa Fe NM                                                            41                                                 \n",
      "Alexandria LA                                                                       0                                                 \n",
      "...                                                                               ...                                                 \n",
      "Wilmington NC                                                                       0                                                 \n",
      "Yakima-Pasco-Richland-Kennewick WA                                                 88                                                 \n",
      "Youngstown OH                                                                      42                                                 \n",
      "Yuma AZ-El Centro CA                                                                0                                                 \n",
      "Zanesville OH                                                                       0                                                 \n",
      "\n",
      "[210 rows x 1 columns]\n",
      "C:\\Users\\tosea\\Google-Trend\\10-19_gt_crime\\Known_deliquents_10_20_2010-01-01 2020-12-31 tz=360 4018days USDMA0_202104010145.csv\n",
      "        1 file(s) moved.\n",
      "2010-01-01\n",
      "                                    I hate family+parents hate me+I hate my parents+I hate school+I hate teacher+I hate dad+I hate mom\n",
      "geoName                                                                                                                               \n",
      "Abilene-Sweetwater TX                                                               0                                                 \n",
      "Albany GA                                                                           0                                                 \n",
      "Albany-Schenectady-Troy NY                                                         86                                                 \n",
      "Albuquerque-Santa Fe NM                                                            69                                                 \n",
      "Alexandria LA                                                                       0                                                 \n",
      "...                                                                               ...                                                 \n",
      "Wilmington NC                                                                       0                                                 \n",
      "Yakima-Pasco-Richland-Kennewick WA                                                  0                                                 \n",
      "Youngstown OH                                                                      75                                                 \n",
      "Yuma AZ-El Centro CA                                                                0                                                 \n",
      "Zanesville OH                                                                       0                                                 \n",
      "\n",
      "[210 rows x 1 columns]\n"
     ]
    },
    {
     "name": "stdout",
     "output_type": "stream",
     "text": [
      "C:\\Users\\tosea\\Google-Trend\\10-19_gt_crime\\Social_control_10_20_2010-01-01 2020-12-31 tz=360 4018days USDMA0_202104010145.csv\n",
      "        1 file(s) moved.\n",
      "2010-01-01\n",
      "                                    burglary+home burglarized+my house broken into+my home broken into+burglary report police - dream\n",
      "geoName                                                                                                                              \n",
      "Abilene-Sweetwater TX                                                               0                                                \n",
      "Albany GA                                                                           0                                                \n",
      "Albany-Schenectady-Troy NY                                                         76                                                \n",
      "Albuquerque-Santa Fe NM                                                            53                                                \n",
      "Alexandria LA                                                                       0                                                \n",
      "...                                                                               ...                                                \n",
      "Wilmington NC                                                                       0                                                \n",
      "Yakima-Pasco-Richland-Kennewick WA                                                 69                                                \n",
      "Youngstown OH                                                                      69                                                \n",
      "Yuma AZ-El Centro CA                                                                0                                                \n",
      "Zanesville OH                                                                       0                                                \n",
      "\n",
      "[210 rows x 1 columns]\n",
      "C:\\Users\\tosea\\Google-Trend\\10-19_gt_crime\\Burglary_10_20_2010-01-01 2020-12-31 tz=360 4018days USDMA0_202104010145.csv\n",
      "        1 file(s) moved.\n",
      "2010-01-01\n",
      "                                    car stolen+find stolen car+report police stolen car+insurance car stolen - dream - check\n",
      "geoName                                                                                                                     \n",
      "Abilene-Sweetwater TX                                                               0                                       \n",
      "Albany GA                                                                           0                                       \n",
      "Albany-Schenectady-Troy NY                                                         47                                       \n",
      "Albuquerque-Santa Fe NM                                                            72                                       \n",
      "Alexandria LA                                                                       0                                       \n",
      "...                                                                               ...                                       \n",
      "Wilmington NC                                                                       0                                       \n",
      "Yakima-Pasco-Richland-Kennewick WA                                                 54                                       \n",
      "Youngstown OH                                                                      51                                       \n",
      "Yuma AZ-El Centro CA                                                                0                                       \n",
      "Zanesville OH                                                                       0                                       \n",
      "\n",
      "[210 rows x 1 columns]\n"
     ]
    },
    {
     "name": "stderr",
     "output_type": "stream",
     "text": [
      "A subdirectory or file MVT_10_20 already exists.\n"
     ]
    },
    {
     "name": "stdout",
     "output_type": "stream",
     "text": [
      "C:\\Users\\tosea\\Google-Trend\\10-19_gt_crime\\MVT_10_20_2010-01-01 2020-12-31 tz=360 4018days USDMA0_202104010543.csv\n",
      "        1 file(s) moved.\n",
      "2010-01-01\n",
      "                                    I raped+raped me+raped report police+being raped+been raped - dream - kobe - trump - porn\n",
      "geoName                                                                                                                      \n",
      "Abilene-Sweetwater TX                                                               0                                        \n",
      "Albany GA                                                                           0                                        \n",
      "Albany-Schenectady-Troy NY                                                         57                                        \n",
      "Albuquerque-Santa Fe NM                                                            69                                        \n",
      "Alexandria LA                                                                       0                                        \n",
      "...                                                                               ...                                        \n",
      "Wilmington NC                                                                       0                                        \n",
      "Yakima-Pasco-Richland-Kennewick WA                                                 51                                        \n",
      "Youngstown OH                                                                     100                                        \n",
      "Yuma AZ-El Centro CA                                                                0                                        \n",
      "Zanesville OH                                                                       0                                        \n",
      "\n",
      "[210 rows x 1 columns]\n"
     ]
    },
    {
     "name": "stderr",
     "output_type": "stream",
     "text": [
      "A subdirectory or file Rape_10_20 already exists.\n"
     ]
    },
    {
     "name": "stdout",
     "output_type": "stream",
     "text": [
      "C:\\Users\\tosea\\Google-Trend\\10-19_gt_crime\\Rape_10_20_2010-01-01 2020-12-31 tz=360 4018days USDMA0_202104010543.csv\n",
      "        1 file(s) moved.\n",
      "2010-01-01\n",
      "                                    my stolen+find my stolen+theft report police+someone stolen my - car - heart - dream - number\n",
      "geoName                                                                                                                          \n",
      "Abilene-Sweetwater TX                                                               0                                            \n",
      "Albany GA                                                                           0                                            \n",
      "Albany-Schenectady-Troy NY                                                         40                                            \n",
      "Albuquerque-Santa Fe NM                                                            49                                            \n",
      "Alexandria LA                                                                       0                                            \n",
      "...                                                                               ...                                            \n",
      "Wilmington NC                                                                       0                                            \n",
      "Yakima-Pasco-Richland-Kennewick WA                                                 40                                            \n",
      "Youngstown OH                                                                       0                                            \n",
      "Yuma AZ-El Centro CA                                                                0                                            \n",
      "Zanesville OH                                                                       0                                            \n",
      "\n",
      "[210 rows x 1 columns]\n"
     ]
    },
    {
     "name": "stderr",
     "output_type": "stream",
     "text": [
      "A subdirectory or file Larceny_10_20 already exists.\n"
     ]
    },
    {
     "name": "stdout",
     "output_type": "stream",
     "text": [
      "C:\\Users\\tosea\\Google-Trend\\10-19_gt_crime\\Larceny_10_20_2010-01-01 2020-12-31 tz=360 4018days USDMA0_202104010543.csv\n",
      "        1 file(s) moved.\n",
      "2010-01-01\n",
      "                                    my committed a crime+police arrested my+my arrested+my in jail+my in prison - arrested development\n",
      "geoName                                                                                                                               \n",
      "Abilene-Sweetwater TX                                                               0                                                 \n",
      "Albany GA                                                                           0                                                 \n",
      "Albany-Schenectady-Troy NY                                                         43                                                 \n",
      "Albuquerque-Santa Fe NM                                                            41                                                 \n",
      "Alexandria LA                                                                       0                                                 \n",
      "...                                                                               ...                                                 \n",
      "Wilmington NC                                                                       0                                                 \n",
      "Yakima-Pasco-Richland-Kennewick WA                                                 88                                                 \n",
      "Youngstown OH                                                                      42                                                 \n",
      "Yuma AZ-El Centro CA                                                                0                                                 \n",
      "Zanesville OH                                                                       0                                                 \n",
      "\n",
      "[210 rows x 1 columns]\n"
     ]
    },
    {
     "name": "stderr",
     "output_type": "stream",
     "text": [
      "A subdirectory or file Known_deliquents_10_20 already exists.\n"
     ]
    },
    {
     "name": "stdout",
     "output_type": "stream",
     "text": [
      "C:\\Users\\tosea\\Google-Trend\\10-19_gt_crime\\Known_deliquents_10_20_2010-01-01 2020-12-31 tz=360 4018days USDMA0_202104010543.csv\n",
      "        1 file(s) moved.\n",
      "2010-01-01\n",
      "                                    I hate family+parents hate me+I hate my parents+I hate school+I hate teacher+I hate dad+I hate mom\n",
      "geoName                                                                                                                               \n",
      "Abilene-Sweetwater TX                                                               0                                                 \n",
      "Albany GA                                                                           0                                                 \n",
      "Albany-Schenectady-Troy NY                                                         75                                                 \n",
      "Albuquerque-Santa Fe NM                                                            65                                                 \n",
      "Alexandria LA                                                                       0                                                 \n",
      "...                                                                               ...                                                 \n",
      "Wilmington NC                                                                       0                                                 \n",
      "Yakima-Pasco-Richland-Kennewick WA                                                  0                                                 \n",
      "Youngstown OH                                                                      83                                                 \n",
      "Yuma AZ-El Centro CA                                                                0                                                 \n",
      "Zanesville OH                                                                       0                                                 \n",
      "\n",
      "[210 rows x 1 columns]\n"
     ]
    },
    {
     "name": "stderr",
     "output_type": "stream",
     "text": [
      "A subdirectory or file Social_control_10_20 already exists.\n"
     ]
    },
    {
     "name": "stdout",
     "output_type": "stream",
     "text": [
      "C:\\Users\\tosea\\Google-Trend\\10-19_gt_crime\\Social_control_10_20_2010-01-01 2020-12-31 tz=360 4018days USDMA0_202104010543.csv\n",
      "        1 file(s) moved.\n",
      "2010-01-01\n",
      "                                    burglary+home burglarized+my house broken into+my home broken into+burglary report police - dream\n",
      "geoName                                                                                                                              \n",
      "Abilene-Sweetwater TX                                                               0                                                \n",
      "Albany GA                                                                           0                                                \n",
      "Albany-Schenectady-Troy NY                                                         80                                                \n",
      "Albuquerque-Santa Fe NM                                                            52                                                \n",
      "Alexandria LA                                                                       0                                                \n",
      "...                                                                               ...                                                \n",
      "Wilmington NC                                                                       0                                                \n",
      "Yakima-Pasco-Richland-Kennewick WA                                                 63                                                \n",
      "Youngstown OH                                                                      58                                                \n",
      "Yuma AZ-El Centro CA                                                                0                                                \n",
      "Zanesville OH                                                                       0                                                \n",
      "\n",
      "[210 rows x 1 columns]\n"
     ]
    },
    {
     "name": "stderr",
     "output_type": "stream",
     "text": [
      "A subdirectory or file Burglary_10_20 already exists.\n"
     ]
    },
    {
     "name": "stdout",
     "output_type": "stream",
     "text": [
      "C:\\Users\\tosea\\Google-Trend\\10-19_gt_crime\\Burglary_10_20_2010-01-01 2020-12-31 tz=360 4018days USDMA0_202104010543.csv\n",
      "        1 file(s) moved.\n",
      "2010-01-01\n",
      "                                    car stolen+find stolen car+report police stolen car+insurance car stolen - dream - check\n",
      "geoName                                                                                                                     \n",
      "Abilene-Sweetwater TX                                                               0                                       \n",
      "Albany GA                                                                           0                                       \n",
      "Albany-Schenectady-Troy NY                                                         47                                       \n",
      "Albuquerque-Santa Fe NM                                                            72                                       \n",
      "Alexandria LA                                                                       0                                       \n",
      "...                                                                               ...                                       \n",
      "Wilmington NC                                                                       0                                       \n",
      "Yakima-Pasco-Richland-Kennewick WA                                                 54                                       \n",
      "Youngstown OH                                                                      51                                       \n",
      "Yuma AZ-El Centro CA                                                                0                                       \n",
      "Zanesville OH                                                                       0                                       \n",
      "\n",
      "[210 rows x 1 columns]\n"
     ]
    },
    {
     "name": "stderr",
     "output_type": "stream",
     "text": [
      "A subdirectory or file MVT_10_20 already exists.\n"
     ]
    },
    {
     "name": "stdout",
     "output_type": "stream",
     "text": [
      "C:\\Users\\tosea\\Google-Trend\\10-19_gt_crime\\MVT_10_20_2010-01-01 2020-12-31 tz=360 4018days USDMA0_202104010940.csv\n",
      "        1 file(s) moved.\n",
      "2010-01-01\n",
      "                                    I raped+raped me+raped report police+being raped+been raped - dream - kobe - trump - porn\n",
      "geoName                                                                                                                      \n",
      "Abilene-Sweetwater TX                                                               0                                        \n",
      "Albany GA                                                                           0                                        \n",
      "Albany-Schenectady-Troy NY                                                         57                                        \n",
      "Albuquerque-Santa Fe NM                                                            69                                        \n",
      "Alexandria LA                                                                       0                                        \n",
      "...                                                                               ...                                        \n",
      "Wilmington NC                                                                       0                                        \n",
      "Yakima-Pasco-Richland-Kennewick WA                                                 51                                        \n",
      "Youngstown OH                                                                     100                                        \n",
      "Yuma AZ-El Centro CA                                                                0                                        \n",
      "Zanesville OH                                                                       0                                        \n",
      "\n",
      "[210 rows x 1 columns]\n"
     ]
    },
    {
     "name": "stderr",
     "output_type": "stream",
     "text": [
      "A subdirectory or file Rape_10_20 already exists.\n"
     ]
    },
    {
     "name": "stdout",
     "output_type": "stream",
     "text": [
      "C:\\Users\\tosea\\Google-Trend\\10-19_gt_crime\\Rape_10_20_2010-01-01 2020-12-31 tz=360 4018days USDMA0_202104010940.csv\n",
      "        1 file(s) moved.\n",
      "2010-01-01\n",
      "                                    my stolen+find my stolen+theft report police+someone stolen my - car - heart - dream - number\n",
      "geoName                                                                                                                          \n",
      "Abilene-Sweetwater TX                                                               0                                            \n",
      "Albany GA                                                                           0                                            \n",
      "Albany-Schenectady-Troy NY                                                         40                                            \n",
      "Albuquerque-Santa Fe NM                                                            49                                            \n",
      "Alexandria LA                                                                       0                                            \n",
      "...                                                                               ...                                            \n",
      "Wilmington NC                                                                       0                                            \n",
      "Yakima-Pasco-Richland-Kennewick WA                                                 40                                            \n",
      "Youngstown OH                                                                       0                                            \n",
      "Yuma AZ-El Centro CA                                                                0                                            \n",
      "Zanesville OH                                                                       0                                            \n",
      "\n",
      "[210 rows x 1 columns]\n"
     ]
    },
    {
     "name": "stderr",
     "output_type": "stream",
     "text": [
      "A subdirectory or file Larceny_10_20 already exists.\n"
     ]
    },
    {
     "name": "stdout",
     "output_type": "stream",
     "text": [
      "C:\\Users\\tosea\\Google-Trend\\10-19_gt_crime\\Larceny_10_20_2010-01-01 2020-12-31 tz=360 4018days USDMA0_202104010940.csv\n",
      "        1 file(s) moved.\n",
      "2010-01-01\n",
      "                                    my committed a crime+police arrested my+my arrested+my in jail+my in prison - arrested development\n",
      "geoName                                                                                                                               \n",
      "Abilene-Sweetwater TX                                                               0                                                 \n",
      "Albany GA                                                                           0                                                 \n",
      "Albany-Schenectady-Troy NY                                                         54                                                 \n",
      "Albuquerque-Santa Fe NM                                                            40                                                 \n",
      "Alexandria LA                                                                       0                                                 \n",
      "...                                                                               ...                                                 \n",
      "Wilmington NC                                                                       0                                                 \n",
      "Yakima-Pasco-Richland-Kennewick WA                                                 84                                                 \n",
      "Youngstown OH                                                                      57                                                 \n",
      "Yuma AZ-El Centro CA                                                                0                                                 \n",
      "Zanesville OH                                                                       0                                                 \n",
      "\n",
      "[210 rows x 1 columns]\n"
     ]
    },
    {
     "name": "stderr",
     "output_type": "stream",
     "text": [
      "A subdirectory or file Known_deliquents_10_20 already exists.\n"
     ]
    },
    {
     "name": "stdout",
     "output_type": "stream",
     "text": [
      "C:\\Users\\tosea\\Google-Trend\\10-19_gt_crime\\Known_deliquents_10_20_2010-01-01 2020-12-31 tz=360 4018days USDMA0_202104010940.csv\n",
      "        1 file(s) moved.\n",
      "2010-01-01\n",
      "                                    I hate family+parents hate me+I hate my parents+I hate school+I hate teacher+I hate dad+I hate mom\n",
      "geoName                                                                                                                               \n",
      "Abilene-Sweetwater TX                                                               0                                                 \n",
      "Albany GA                                                                           0                                                 \n",
      "Albany-Schenectady-Troy NY                                                         75                                                 \n",
      "Albuquerque-Santa Fe NM                                                            65                                                 \n",
      "Alexandria LA                                                                       0                                                 \n",
      "...                                                                               ...                                                 \n",
      "Wilmington NC                                                                       0                                                 \n",
      "Yakima-Pasco-Richland-Kennewick WA                                                  0                                                 \n",
      "Youngstown OH                                                                      83                                                 \n",
      "Yuma AZ-El Centro CA                                                                0                                                 \n",
      "Zanesville OH                                                                       0                                                 \n",
      "\n",
      "[210 rows x 1 columns]\n"
     ]
    },
    {
     "name": "stderr",
     "output_type": "stream",
     "text": [
      "A subdirectory or file Social_control_10_20 already exists.\n"
     ]
    },
    {
     "name": "stdout",
     "output_type": "stream",
     "text": [
      "C:\\Users\\tosea\\Google-Trend\\10-19_gt_crime\\Social_control_10_20_2010-01-01 2020-12-31 tz=360 4018days USDMA0_202104010940.csv\n",
      "        1 file(s) moved.\n",
      "2010-01-01\n",
      "                                    burglary+home burglarized+my house broken into+my home broken into+burglary report police - dream\n",
      "geoName                                                                                                                              \n",
      "Abilene-Sweetwater TX                                                               0                                                \n",
      "Albany GA                                                                           0                                                \n",
      "Albany-Schenectady-Troy NY                                                         80                                                \n",
      "Albuquerque-Santa Fe NM                                                            52                                                \n",
      "Alexandria LA                                                                       0                                                \n",
      "...                                                                               ...                                                \n",
      "Wilmington NC                                                                       0                                                \n",
      "Yakima-Pasco-Richland-Kennewick WA                                                 63                                                \n",
      "Youngstown OH                                                                      58                                                \n",
      "Yuma AZ-El Centro CA                                                                0                                                \n",
      "Zanesville OH                                                                       0                                                \n",
      "\n",
      "[210 rows x 1 columns]\n"
     ]
    },
    {
     "name": "stderr",
     "output_type": "stream",
     "text": [
      "A subdirectory or file Burglary_10_20 already exists.\n"
     ]
    },
    {
     "name": "stdout",
     "output_type": "stream",
     "text": [
      "C:\\Users\\tosea\\Google-Trend\\10-19_gt_crime\\Burglary_10_20_2010-01-01 2020-12-31 tz=360 4018days USDMA0_202104010940.csv\n",
      "        1 file(s) moved.\n"
     ]
    }
   ],
   "source": [
    "count = 0\n",
    "while count != repeat: \n",
    "    for i, j in zip(GTKeywords, filenamex):\n",
    "        GTkeyword(i, j)\n",
    "        !mkdir $j\n",
    "        !move $j*.csv $j\n",
    "    count += 1\n",
    "    time.sleep(sleep)\n"
   ]
  },
  {
   "cell_type": "code",
   "execution_count": null,
   "metadata": {
    "scrolled": true
   },
   "outputs": [],
   "source": [
    "!mkdir crime_singletotal\n",
    "#!del .ipynb_checkpoints \n",
    "for i,j in zip(GTKeywords, filenamex):\n",
    "    route = j+r\"//\"\n",
    "    route2 = \"crime_singletotal\"+r\"/\"+j+r\"total.csv\"\n",
    "    name_list = os.listdir(route) \n",
    "    if \".ipynb_checkpoints\" in name_list:\n",
    "        name_list.remove(\".ipynb_checkpoints\")\n",
    "    if \"desktop.ini\" in name_list:\n",
    "        name_list.remove(\"desktop.ini\")\n",
    "    #print(name_list)\n",
    "    data = [] \n",
    "    df = route + name_list[0]\n",
    "    #print(df)\n",
    "    for k in range(len(name_list)):\n",
    "        print(k)\n",
    "        print(name_list)\n",
    "        \n",
    "        df = pd.read_csv(route + name_list[k], engine = \"python\")\n",
    "        \n",
    "        print(df)\n",
    "        data.append(df.drop([\"Interval Days\", \"DateStart\" ,\"DateEnd\"], axis = 1))\n",
    "        #print(data)\n",
    "    \n",
    "    data = pd.concat(data)\n",
    "    data.loc[:, data.columns != 'GeoName'] = data.loc[:, data.columns != 'GeoName'].astype(float)\n",
    "\n",
    "    db1 = data.groupby('GeoName')\n",
    "    db2 = db1.sum()/db1.count()\n",
    "    db2.to_csv(route2, index=1,header = True)"
   ]
  },
  {
   "cell_type": "code",
   "execution_count": null,
   "metadata": {},
   "outputs": [],
   "source": [
    "def corr_in_folder(path):\n",
    "    data1 = pd.read_csv(path+os.listdir(path)[0]).drop([\"Interval Days\", \"DateStart\", \"DateEnd\"], axis = 1)\n",
    "    for i in os.listdir(path):\n",
    "        data = pd.read_csv(path+i).drop([\"Interval Days\", \"DateStart\", \"DateEnd\"], axis = 1)\n",
    "        data1 = pd.merge(data1,data, how = \"outer\", on = \"GeoName\")\n",
    "    return data1.corr()"
   ]
  },
  {
   "cell_type": "code",
   "execution_count": null,
   "metadata": {},
   "outputs": [],
   "source": [
    "def without_duplicate_data_corr(path):\n",
    "    data1 = pd.read_csv(path+os.listdir(path)[0]).drop([\"Interval Days\", \"DateStart\", \"DateEnd\"], axis = 1)\n",
    "    for i in os.listdir(path):\n",
    "        data = pd.read_csv(path+i).drop([\"Interval Days\", \"DateStart\", \"DateEnd\"], axis = 1)\n",
    "        data1 = pd.merge(data1,data, how = \"outer\", on = \"GeoName\")\n",
    "    data1 = data1.T.drop_duplicates().T\n",
    "    datacorr = data1.drop(\"GeoName\", axis = 1).astype(float).corr()\n",
    "    return datacorr"
   ]
  },
  {
   "cell_type": "code",
   "execution_count": null,
   "metadata": {},
   "outputs": [],
   "source": [
    "def without_duplicate_data(Dict):\n",
    "    walkcross = pd.read_csv(r\"C:\\Users\\tosea\\Google-Trend\\county_dma_crosswalk_harvard.csv\").groupby(\"DMA\").sum()\n",
    "    alllist = []\n",
    "    data2 = walkcross.drop([\"FIPS\", \"DMAINDEX\"], axis = 1)\n",
    "    for i in D.keys():\n",
    "        path = i + \"/\"\n",
    "        concatlist = []\n",
    "        data1 = walkcross.drop([\"FIPS\", \"DMAINDEX\"], axis = 1)\n",
    "        for j in os.listdir(path):\n",
    "            data = pd.read_csv(path+j).drop([\"Interval Days\", \"DateStart\", \"DateEnd\"], axis = 1)\n",
    "            data.index = data.GeoName\n",
    "            data = data.drop(\"GeoName\", axis = 1)\n",
    "            data1 = pd.merge(data1,data, how = \"outer\", left_index = True, right_index = True)\n",
    "        # Drop duplicate GT data\n",
    "        #import pdb\n",
    "        \n",
    "        data1 = data1.T.drop_duplicates().T.dropna(how='all').T.dropna(how = \"all\").T\n",
    "        #pdb.set_trace()\n",
    "        data1 = data1.T[data1.astype(float).corr().mean() > 0.7].T\n",
    "        corr_data = data1.astype(float).corr()\n",
    "        data1[i] = data1.mean(axis = 1).round(3)\n",
    "        print(f\"len of data {i}: \", len(data1.columns))\n",
    "\n",
    "        data2 = pd.merge(data2,data1[i], how = \"outer\", left_index = True, right_index = True)\n",
    "\n",
    "    data2 = data2.reset_index().rename(columns = {\"index\":\"dma_area\"})\n",
    "    data2.to_csv(\"GT_Crime_SingleKeywordsOrigin.csv\")\n",
    "    \n",
    "    return data2, corr_data\n",
    "\n",
    "\n",
    "    \n",
    "\n",
    "\n",
    "\n",
    "def with_duplicate_data(Dict):\n",
    "    walkcross = pd.read_csv(r\"C:\\Users\\tosea\\Google-Trend\\county_dma_crosswalk_harvard.csv\").groupby(\"DMA\").sum()\n",
    "    alllist = []\n",
    "    for i in D.keys():\n",
    "        path = i + \"/\"\n",
    "        concatlist = []\n",
    "        data1 = walkcross.drop([\"FIPS\", \"DMAINDEX\"], axis = 1)\n",
    "        for j in os.listdir(path):\n",
    "            data = pd.read_csv(path+j).drop([\"Interval Days\", \"DateStart\", \"DateEnd\"], axis = 1)\n",
    "            data.index = data.GeoName\n",
    "            data = data.drop(\"GeoName\", axis = 1)\n",
    "            data1 = pd.merge(data1,data, how = \"outer\", left_index = True, right_index = True)\n",
    "\n",
    "        data1[i] = data1.mean(axis = 1).round(3)\n",
    "        print(f\"len of data {i}: \", len(data1.columns))\n",
    "        data1 = data1.reset_index().rename(columns = {\"index\":\"dma_area\"})\n",
    "        alllist.append(data1[[\"dma_area\", i]])\n",
    "    totaldata = pd.concat(alllist, axis  = 1).T.drop_duplicates().T\n",
    "    totaldata.to_csv(\"GT_Crime_SingleKeywordsOrigin.csv\")\n",
    "    \n",
    "    return totaldata"
   ]
  },
  {
   "cell_type": "code",
   "execution_count": null,
   "metadata": {},
   "outputs": [],
   "source": [
    "with_duplicate_data(D)"
   ]
  },
  {
   "cell_type": "code",
   "execution_count": null,
   "metadata": {},
   "outputs": [],
   "source": [
    "without_duplicate_data(D)"
   ]
  },
  {
   "cell_type": "code",
   "execution_count": null,
   "metadata": {},
   "outputs": [],
   "source": [
    "for i in D.keys():\n",
    "    print(corr_in_folder(i+\"/\"))"
   ]
  },
  {
   "cell_type": "code",
   "execution_count": null,
   "metadata": {},
   "outputs": [],
   "source": [
    "without_duplicate_data_corr(\"MVT_10_20/\")"
   ]
  },
  {
   "cell_type": "code",
   "execution_count": null,
   "metadata": {},
   "outputs": [],
   "source": [
    "without_duplicate_data_corr(\"Rape_10_20/\")"
   ]
  },
  {
   "cell_type": "code",
   "execution_count": null,
   "metadata": {},
   "outputs": [],
   "source": [
    "without_duplicate_data_corr(\"Larceny_10_20/\")"
   ]
  },
  {
   "cell_type": "code",
   "execution_count": null,
   "metadata": {},
   "outputs": [],
   "source": [
    "without_duplicate_data_corr(\"Burglary_10_20/\")"
   ]
  },
  {
   "cell_type": "code",
   "execution_count": null,
   "metadata": {},
   "outputs": [],
   "source": [
    "without_duplicate_data_corr(\"Known_deliquents_10_20/\")"
   ]
  },
  {
   "cell_type": "code",
   "execution_count": null,
   "metadata": {},
   "outputs": [],
   "source": [
    "without_duplicate_data_corr(\"Social_control_10_20/\")"
   ]
  },
  {
   "cell_type": "code",
   "execution_count": null,
   "metadata": {
    "scrolled": true
   },
   "outputs": [],
   "source": [
    "'''\n",
    "import os\n",
    "import re\n",
    "import pdb\n",
    "import pandas as pd\n",
    "yourpath = 'crime_singletotal12_19/'\n",
    "allfilelist = os.listdir(yourpath)\n",
    "\n",
    "for i in range(len(allfilelist)):\n",
    "    tempfile = pd.read_csv(f'{yourpath}/{allfilelist[i]}')\n",
    "    tempfile1 = pd.read_csv(f'{yourpath}/{allfilelist[i+1]}')\n",
    "    GT_inner_join = pd.merge(tempfile1, tempfile, how='outer', on='GeoName')\n",
    "\n",
    "    break\n",
    "    \n",
    "for i2 in range(2, len(allfilelist)):\n",
    "    tempfile = pd.read_csv(f'{yourpath}/{allfilelist[i2]}')\n",
    "    GT_inner_join = pd.merge(GT_inner_join, tempfile, how='outer', on='GeoName')\n",
    "\n",
    "\n",
    "for i3 in range(len(GT_inner_join.columns)):\n",
    "    #pdb.set_trace()\n",
    "    substitute = re.sub(r\"Keyword._\",r\"\", GT_inner_join.columns[i3])\n",
    "    tailsubstitute = re.sub(r\"/0866r_.$\", r\"/0866r\", substitute)\n",
    "    tailsubstitute = re.sub(r\"_x$\", r\"\", tailsubstitute)\n",
    "    tailsubstitute = re.sub(r\"_y$\", r\"\", tailsubstitute)\n",
    "\n",
    "        \n",
    "    for name, code in D.items():\n",
    "        if tailsubstitute == code:\n",
    "            GT_inner_join = GT_inner_join.rename(columns={GT_inner_join.columns[i3]:(name)})\n",
    "\n",
    "            \n",
    "\n",
    "GT_inner_join = GT_inner_join.rename(columns= {\"GeoName\":\"DMA\"})\n",
    "\n",
    "\n",
    "for i in range(1, len(GT_inner_join.columns)):\n",
    "    GT_inner_join = GT_inner_join.rename(columns = {GT_inner_join.columns[i] : \"GT_\"+ GT_inner_join.columns[i]})\n",
    "\n",
    "GT_inner_join.to_csv(\"GT_Crime_SingleKeywordsOrigin.csv\")\n",
    "GT_inner_join.head()\n",
    "'''"
   ]
  },
  {
   "cell_type": "code",
   "execution_count": null,
   "metadata": {},
   "outputs": [],
   "source": []
  },
  {
   "cell_type": "code",
   "execution_count": null,
   "metadata": {},
   "outputs": [],
   "source": []
  }
 ],
 "metadata": {
  "kernelspec": {
   "display_name": "Python 3",
   "language": "python",
   "name": "python3"
  },
  "language_info": {
   "codemirror_mode": {
    "name": "ipython",
    "version": 3
   },
   "file_extension": ".py",
   "mimetype": "text/x-python",
   "name": "python",
   "nbconvert_exporter": "python",
   "pygments_lexer": "ipython3",
   "version": "3.7.3"
  }
 },
 "nbformat": 4,
 "nbformat_minor": 2
}
